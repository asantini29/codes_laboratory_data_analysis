{
 "cells": [
  {
   "cell_type": "code",
   "execution_count": 1,
   "id": "e24b4a25",
   "metadata": {},
   "outputs": [],
   "source": [
    "import numpy as np\n",
    "from tqdm.notebook import tqdm\n",
    "import astropy.constants as const\n",
    "import pylab as plt\n",
    "from astropy.modeling import models\n",
    "from astropy import units as u\n",
    "from astropy.visualization import quantity_support\n",
    "\n",
    "rc = {\"font.family\" : \"serif\", \n",
    "      \"mathtext.fontset\" : \"cm\",\n",
    "      \"font.size\" : \"12\",\n",
    "      \"figure.figsize\" : [16,8]}\n",
    "plt.rcParams.update(rc)\n",
    "\n",
    "%config InlineBackend.figure_format='retina'"
   ]
  },
  {
   "cell_type": "code",
   "execution_count": 6,
   "id": "8540a608",
   "metadata": {},
   "outputs": [],
   "source": [
    "#return the maximum mass as a function of the age of the stellar population\n",
    "def age(M):\n",
    "    M_sun = const.M_sun.cgs.value\n",
    "    t_sun = 1e10 * u.yr #10 Gy\n",
    "    return t_sun * (M_sun / M)**2.5"
   ]
  },
  {
   "cell_type": "code",
   "execution_count": 14,
   "id": "9d6c9c8b",
   "metadata": {},
   "outputs": [],
   "source": [
    "#scale factor and temperature\n",
    "def mass_cno(T):\n",
    "    M_sun = const.M_sun.cgs.value\n",
    "    L_sun = const.L_sun.cgs.value\n",
    "    R_sun = const.R_sun.cgs.value\n",
    "    sigma = const.sigma_sb.cgs.value\n",
    "    eta = 3.5 #exponent of the mass-luminosity relation\n",
    "    xi = 0.56 #exponent of the mass-radius relation\n",
    "    \n",
    "    #outputs\n",
    "    M = M_sun * (1/L_sun * 4 * np.pi * R_sun**2 * sigma * T.value**4)**(1/(eta - xi))\n",
    "    return M"
   ]
  },
  {
   "cell_type": "code",
   "execution_count": 21,
   "id": "c64b8b7d",
   "metadata": {},
   "outputs": [
    {
     "name": "stdout",
     "output_type": "stream",
     "text": [
      "The age of the galaxy is about 2.2e+07 yr\n"
     ]
    }
   ],
   "source": [
    "T = 3.5e4 * u.K\n",
    "tau = age(mass_cno(T))\n",
    "print('The age of the galaxy is about {:.1e}'.format(tau))"
   ]
  },
  {
   "cell_type": "code",
   "execution_count": null,
   "id": "e96dfdb8",
   "metadata": {},
   "outputs": [],
   "source": []
  }
 ],
 "metadata": {
  "kernelspec": {
   "display_name": "Python 3 (ipykernel)",
   "language": "python",
   "name": "python3"
  },
  "language_info": {
   "codemirror_mode": {
    "name": "ipython",
    "version": 3
   },
   "file_extension": ".py",
   "mimetype": "text/x-python",
   "name": "python",
   "nbconvert_exporter": "python",
   "pygments_lexer": "ipython3",
   "version": "3.8.12"
  }
 },
 "nbformat": 4,
 "nbformat_minor": 5
}
